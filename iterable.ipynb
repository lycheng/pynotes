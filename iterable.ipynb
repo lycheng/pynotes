{
 "cells": [
  {
   "cell_type": "markdown",
   "metadata": {},
   "source": [
    "# iterable"
   ]
  },
  {
   "cell_type": "code",
   "execution_count": 5,
   "metadata": {
    "collapsed": false
   },
   "outputs": [
    {
     "name": "stdout",
     "output_type": "stream",
     "text": [
      "1\n",
      "2\n",
      "3\n"
     ]
    }
   ],
   "source": [
    "# 迭代器基本用法\n",
    "class Iter:\n",
    "    def __init__(self, n=3):\n",
    "        self.i = 0\n",
    "        self.n = n\n",
    "\n",
    "    def __iter__(self):\n",
    "        return self\n",
    "\n",
    "    def next(self):\n",
    "        if self.i >= self.n:\n",
    "            raise StopIteration\n",
    "        self.i += 1\n",
    "        return self.i\n",
    "\n",
    "    def __next__(self):\n",
    "        ''' for py3\n",
    "        '''\n",
    "        return self.next()\n",
    "\n",
    "it = Iter()\n",
    "for i in it:\n",
    "    print(i)"
   ]
  },
  {
   "cell_type": "code",
   "execution_count": 4,
   "metadata": {
    "collapsed": false
   },
   "outputs": [
    {
     "name": "stdout",
     "output_type": "stream",
     "text": [
      "0\n",
      "1\n",
      "2\n",
      "False\n",
      "True\n"
     ]
    }
   ],
   "source": [
    "# 生成器基本用法\n",
    "import collections\n",
    "\n",
    "def func():\n",
    "    for i in range(3):\n",
    "        yield i # 返回的是一个生成器\n",
    "    # 也可以这样\n",
    "    # return (x for x in range(3))\n",
    "   \n",
    "# 这时函数并未开始执行，for 循环之后才开始执行\n",
    "ii = func()\n",
    "for i in ii:\n",
    "    print(i)\n",
    "    \n",
    "def f(): yield 1\n",
    "\n",
    "print(isinstance(f, collections.Iterator))\n",
    "print(isinstance(f(), collections.Iterator))"
   ]
  },
  {
   "cell_type": "code",
   "execution_count": null,
   "metadata": {
    "collapsed": true
   },
   "outputs": [],
   "source": []
  }
 ],
 "metadata": {
  "kernelspec": {
   "display_name": "Python 3",
   "language": "python",
   "name": "python3"
  },
  "language_info": {
   "codemirror_mode": {
    "name": "ipython",
    "version": 3
   },
   "file_extension": ".py",
   "mimetype": "text/x-python",
   "name": "python",
   "nbconvert_exporter": "python",
   "pygments_lexer": "ipython3",
   "version": "3.5.2+"
  }
 },
 "nbformat": 4,
 "nbformat_minor": 2
}
