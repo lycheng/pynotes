{
 "cells": [
  {
   "cell_type": "code",
   "execution_count": 3,
   "metadata": {},
   "outputs": [
    {
     "name": "stdout",
     "output_type": "stream",
     "text": [
      "1\n",
      "1\n",
      "asdada\n"
     ]
    }
   ],
   "source": [
    "# TypeConversionDict\n",
    "class TypeConversionDict(dict):\n",
    "    def get(self, key, default=None, type=None):\n",
    "        try:\n",
    "            rv = self[key]\n",
    "            if type is not None:\n",
    "                rv = type(rv)\n",
    "        except (KeyError, ValueError):\n",
    "            rv = default\n",
    "        return rv\n",
    "    \n",
    "d = TypeConversionDict(a=1, b=\"2\", c=\"abcd\")\n",
    "\n",
    "print(d.get('a', type=str))\n",
    "print(d.get('a'))\n",
    "print(d.get('z', type=str, default=\"asdada\"))"
   ]
  },
  {
   "cell_type": "code",
   "execution_count": null,
   "metadata": {
    "collapsed": true
   },
   "outputs": [],
   "source": []
  }
 ],
 "metadata": {
  "kernelspec": {
   "display_name": "Python 3",
   "language": "python",
   "name": "python3"
  },
  "language_info": {
   "codemirror_mode": {
    "name": "ipython",
    "version": 3
   },
   "file_extension": ".py",
   "mimetype": "text/x-python",
   "name": "python",
   "nbconvert_exporter": "python",
   "pygments_lexer": "ipython3",
   "version": "3.5.2"
  }
 },
 "nbformat": 4,
 "nbformat_minor": 2
}
