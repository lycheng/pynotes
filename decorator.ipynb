{
 "cells": [
  {
   "cell_type": "markdown",
   "metadata": {
    "deletable": true,
    "editable": true
   },
   "source": [
    "# decorator"
   ]
  },
  {
   "cell_type": "code",
   "execution_count": 10,
   "metadata": {
    "collapsed": false
   },
   "outputs": [
    {
     "name": "stdout",
     "output_type": "stream",
     "text": [
      "<b><i>hello</i></b>\n",
      "<i><b>hello</b></i>\n",
      "wrapper\n",
      "makebold wrapper\n",
      "        \n",
      "makeitalic wrapper\n",
      "        \n"
     ]
    }
   ],
   "source": [
    "# 最基本的用法\n",
    "\n",
    "# The decorator to make it bold\n",
    "def makebold(fn):\n",
    "    # The new function the decorator returns\n",
    "    def wrapper():\n",
    "        '''makebold wrapper\n",
    "        '''\n",
    "        return \"<b>\" + fn() + \"</b>\"\n",
    "    return wrapper\n",
    "\n",
    "# The decorator to make it italic\n",
    "def makeitalic(fn):\n",
    "    # The new function the decorator returns\n",
    "    def wrapper():\n",
    "        '''makeitalic wrapper\n",
    "        '''\n",
    "        return \"<i>\" + fn() + \"</i>\"\n",
    "    return wrapper\n",
    "\n",
    "@makebold\n",
    "@makeitalic\n",
    "def hello():\n",
    "    return \"hello\"\n",
    "\n",
    "@makeitalic\n",
    "@makebold\n",
    "def hello_again():\n",
    "    return \"hello\"\n",
    "\n",
    "print(hello())\n",
    "print(hello_again())\n",
    "\n",
    "# 错误的函数名和 doc\n",
    "print(hello_again.__name__)\n",
    "print(hello.__doc__)\n",
    "print(hello_again.__doc__)"
   ]
  },
  {
   "cell_type": "code",
   "execution_count": 18,
   "metadata": {
    "collapsed": false
   },
   "outputs": [
    {
     "name": "stdout",
     "output_type": "stream",
     "text": [
      "(0, 0) <class 'tuple'>\n",
      "{} <class 'dict'>\n",
      "0\n",
      "\n",
      "() <class 'tuple'>\n",
      "{'b': 0, 'a': 0} <class 'dict'>\n",
      "100\n"
     ]
    }
   ],
   "source": [
    "# 处理函数参数\n",
    "\n",
    "def decorator_passing_arguments(func):\n",
    "    def wrapper_accepting_arguments(*args, **kwargs):\n",
    "        print(args, type(args))\n",
    "        print(kwargs, type(kwargs))\n",
    "        if 'a' in kwargs:\n",
    "            kwargs['a'] += 100\n",
    "        return func(*args, **kwargs)\n",
    "    return wrapper_accepting_arguments\n",
    "\n",
    "@decorator_passing_arguments\n",
    "def func(a, b):\n",
    "    return a + b\n",
    "\n",
    "print(func(0, 0))\n",
    "print()\n",
    "print(func(a=0, b=0))"
   ]
  },
  {
   "cell_type": "code",
   "execution_count": 24,
   "metadata": {
    "collapsed": false
   },
   "outputs": [
    {
     "name": "stdout",
     "output_type": "stream",
     "text": [
      "I am executed only once: when you make me create a decorator.\n",
      "As a decorator maker, I return a decorator\n",
      "******************************************\n",
      "I am a decorator! I am executed only when you decorate a function.\n",
      "As the decorator, I return the wrapped function.\n",
      "I'm wrapper\n",
      "f()\n",
      "##########################################\n",
      "I am executed only once: when you make me create a decorator.\n",
      "As a decorator maker, I return a decorator\n",
      "I am a decorator! I am executed only when you decorate a function.\n",
      "As the decorator, I return the wrapped function.\n",
      "I'm god\n",
      "g()\n"
     ]
    }
   ],
   "source": [
    "# 带参数的装饰器\n",
    "\n",
    "def decorator_maker(name='wrapper'):\n",
    "\n",
    "    print(\"I am executed only once: \"\n",
    "          \"when you make me create a decorator.\")\n",
    "\n",
    "    def my_decorator(func):\n",
    "\n",
    "        print(\"I am a decorator! I am executed only when you decorate a function.\")\n",
    "\n",
    "        def wrapper():\n",
    "            print(\"I'm\", name)\n",
    "            return func()\n",
    "\n",
    "        print(\"As the decorator, I return the wrapped function.\")\n",
    "        return wrapper\n",
    "\n",
    "    print(\"As a decorator maker, I return a decorator\")\n",
    "    return my_decorator\n",
    "\n",
    "# 实际上，带参数的装饰器只是在装饰的时候多执行了一次函数，该函数返回一个装饰器\n",
    "dec = decorator_maker()\n",
    "\n",
    "print(\"*\" * 42)\n",
    "\n",
    "@dec\n",
    "def f():\n",
    "    print(\"f()\")\n",
    "\n",
    "f()\n",
    "\n",
    "print(\"#\" * 42)\n",
    "\n",
    "@decorator_maker(name=\"god\")\n",
    "def g():\n",
    "    print(\"g()\")\n",
    "\n",
    "g()"
   ]
  },
  {
   "cell_type": "code",
   "execution_count": 23,
   "metadata": {
    "collapsed": false
   },
   "outputs": [
    {
     "name": "stdout",
     "output_type": "stream",
     "text": [
      "foo\n",
      "foo\n",
      "    \n"
     ]
    }
   ],
   "source": [
    "# 使用 functools\n",
    "\n",
    "import functools\n",
    "\n",
    "def bar(func):\n",
    "    # We say that \"wrapper\", is wrapping \"func\"\n",
    "    # and the magic begins\n",
    "    @functools.wraps(func)\n",
    "    def wrapper():\n",
    "        '''wrapper\n",
    "        '''\n",
    "        print(\"bar\")\n",
    "        return func()\n",
    "    return wrapper\n",
    "\n",
    "@bar\n",
    "def foo():\n",
    "    '''foo\n",
    "    '''\n",
    "    print(\"foo\")\n",
    "\n",
    "print(foo.__name__)\n",
    "print(foo.__doc__)"
   ]
  },
  {
   "cell_type": "code",
   "execution_count": 25,
   "metadata": {
    "collapsed": false
   },
   "outputs": [
    {
     "name": "stdout",
     "output_type": "stream",
     "text": [
      "func\n",
      "func has been used: 1x\n",
      "func\n",
      "func has been used: 2x\n",
      "2\n"
     ]
    }
   ],
   "source": [
    "# 记录函数使用记录\n",
    "\n",
    "def counter(func):\n",
    "    \"\"\"\n",
    "    A decorator that counts and prints the number of times a function has been executed\n",
    "    \"\"\"\n",
    "    def wrapper(*args, **kwargs):\n",
    "        wrapper.count = wrapper.count + 1\n",
    "        res = func(*args, **kwargs)\n",
    "        return res\n",
    "    wrapper.count = 0\n",
    "    return wrapper\n",
    "\n",
    "@counter\n",
    "def func():\n",
    "    print(\"func\")\n",
    "    \n",
    "\n",
    "func()\n",
    "func()\n",
    "\n",
    "print(func.count)"
   ]
  },
  {
   "cell_type": "code",
   "execution_count": null,
   "metadata": {
    "collapsed": true
   },
   "outputs": [],
   "source": [
    "# staticmethod and classmethod\n",
    "\n",
    "class StaticMethod(object):\n",
    "    \"Emulate PyStaticMethod_Type() in Objects/funcobject.c\"\n",
    "\n",
    "    def __init__(self, f):\n",
    "        self.f = f\n",
    "\n",
    "    def __get__(self, obj, objtype=None):\n",
    "        return self.f\n",
    "    \n",
    "class ClassMethod(object):\n",
    "    \"Emulate PyClassMethod_Type() in Objects/funcobject.c\"\n",
    "\n",
    "    def __init__(self, f):\n",
    "        self.f = f\n",
    "\n",
    "    def __get__(self, obj, klass=None):\n",
    "        if klass is None:\n",
    "            klass = type(obj)\n",
    "        def newfunc(*args):\n",
    "            return self.f(klass, *args)\n",
    "        return newfunc"
   ]
  }
 ],
 "metadata": {
  "kernelspec": {
   "display_name": "Python 3",
   "language": "python",
   "name": "python3"
  },
  "language_info": {
   "codemirror_mode": {
    "name": "ipython",
    "version": 3
   },
   "file_extension": ".py",
   "mimetype": "text/x-python",
   "name": "python",
   "nbconvert_exporter": "python",
   "pygments_lexer": "ipython3",
   "version": "3.5.2"
  }
 },
 "nbformat": 4,
 "nbformat_minor": 2
}
