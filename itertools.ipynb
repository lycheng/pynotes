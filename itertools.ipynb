{
 "cells": [
  {
   "cell_type": "markdown",
   "metadata": {},
   "source": [
    "# itertools"
   ]
  },
  {
   "cell_type": "code",
   "execution_count": 14,
   "metadata": {
    "collapsed": false
   },
   "outputs": [
    {
     "data": {
      "text/plain": [
       "repeat(1, 3)"
      ]
     },
     "execution_count": 14,
     "metadata": {},
     "output_type": "execute_result"
    }
   ],
   "source": [
    "import itertools\n",
    "\n",
    "def PrintList(iterable):\n",
    "    print(list(iterable))\n",
    "\n",
    "# 永不停止\n",
    "itertools.count(1, 1) # 1 2 3 4 ...\n",
    "\n",
    "# 不断循环输出\n",
    "itertools.cycle(\"abc\") # a b c a ...\n",
    "\n",
    "# 不断重复，第二个参数表示重复的次数，不选则无限重复\n",
    "itertools.repeat(1, 3) # 1 1 1"
   ]
  },
  {
   "cell_type": "code",
   "execution_count": 15,
   "metadata": {
    "collapsed": false
   },
   "outputs": [
    {
     "name": "stdout",
     "output_type": "stream",
     "text": [
      "[0, 1, 3, 6, 10, 15, 21, 28, 36, 45]\n"
     ]
    }
   ],
   "source": [
    "import operator\n",
    "\n",
    "PrintList(itertools.accumulate(range(10), func=operator.add))"
   ]
  },
  {
   "cell_type": "code",
   "execution_count": 5,
   "metadata": {
    "collapsed": false
   },
   "outputs": [
    {
     "name": "stdout",
     "output_type": "stream",
     "text": [
      "[32, 9, 1000]\n"
     ]
    }
   ],
   "source": [
    "PrintList(itertools.starmap(lambda x, y: x ** y, [(2,5), (3,2), (10,3)]))"
   ]
  },
  {
   "cell_type": "code",
   "execution_count": 16,
   "metadata": {
    "collapsed": false
   },
   "outputs": [
    {
     "name": "stdout",
     "output_type": "stream",
     "text": [
      "[1, 2, 3, 4, 5]\n",
      "[1, 2, 3, 4, 5]\n"
     ]
    }
   ],
   "source": [
    "PrintList(itertools.chain(range(1, 3), range(3, 6)))\n",
    "PrintList(itertools.chain.from_iterable([range(1, 3), range(3, 6)]))"
   ]
  },
  {
   "cell_type": "code",
   "execution_count": 17,
   "metadata": {
    "collapsed": false
   },
   "outputs": [
    {
     "name": "stdout",
     "output_type": "stream",
     "text": [
      "[0, 1]\n",
      "[2, 3, 4, 5, 6, 7, 8, 9]\n"
     ]
    }
   ],
   "source": [
    "# itertools.islice(iterable, stop)\n",
    "# itertools.islice(iterable, start, stop[, step])\n",
    "# 需要注意两个参数和三个以上参数调用时含义是不一样的\n",
    "\n",
    "PrintList(itertools.islice(range(10), 2))\n",
    "\n",
    "PrintList(itertools.islice(range(10), 2, None))"
   ]
  },
  {
   "cell_type": "code",
   "execution_count": 22,
   "metadata": {
    "collapsed": false
   },
   "outputs": [
    {
     "name": "stdout",
     "output_type": "stream",
     "text": [
      "[1, 2, 3, 4]\n"
     ]
    }
   ],
   "source": [
    "# 通过相应位置的 selector 来选择\n",
    "PrintList(itertools.compress(range(20), [i for i in range(10) if i % 2 == 0]))"
   ]
  },
  {
   "cell_type": "code",
   "execution_count": 32,
   "metadata": {
    "collapsed": false
   },
   "outputs": [
    {
     "name": "stdout",
     "output_type": "stream",
     "text": [
      "[5, 6, 7, 8, 9]\n",
      "[0, 1, 2, 3, 4]\n",
      "[0, 2, 4, 6, 8]\n"
     ]
    }
   ],
   "source": [
    "# dropwhile(lambda x: x<5, [1,4,6,4,1]) --> 6 4 1\n",
    "PrintList(itertools.dropwhile(lambda x: x<5, range(10)))\n",
    "\n",
    "# takewhile\n",
    "# 与 dropwhile 相对应\n",
    "PrintList(itertools.takewhile(lambda x: x<5, range(10)))\n",
    "\n",
    "# filterfalse(lambda x: x%2, range(10)) --> 0 2 4 6 8\n",
    "PrintList(itertools.filterfalse(lambda x: x%2, range(10)))"
   ]
  },
  {
   "cell_type": "code",
   "execution_count": 30,
   "metadata": {
    "collapsed": false
   },
   "outputs": [
    {
     "name": "stdout",
     "output_type": "stream",
     "text": [
      "0 [(1, 0), (3, 0), (5, 0), (7, 0), (9, 0)]\n",
      "1 [(0, 1), (2, 1), (4, 1), (6, 1), (8, 1)]\n"
     ]
    }
   ],
   "source": [
    "# groupby 用于根据 key 分类\n",
    "# 需要注意的是，相关的 iterable 在调用前需要根据 key 先排序\n",
    "\n",
    "d = {i: (i+1) % 2 for i in range(10)}\n",
    "sd = sorted(d.items(), key=operator.itemgetter(1))\n",
    "for k, g in itertools.groupby(sd, key=operator.itemgetter(1)):\n",
    "    print(k, list(g))"
   ]
  },
  {
   "cell_type": "code",
   "execution_count": 35,
   "metadata": {
    "collapsed": false
   },
   "outputs": [
    {
     "name": "stdout",
     "output_type": "stream",
     "text": [
      "[0, 1, 2, 3, 4, 5, 6, 7, 8, 9]\n",
      "[0, 1, 2, 3, 4, 5, 6, 7, 8, 9]\n"
     ]
    }
   ],
   "source": [
    "# 构造指定数量的与 iterable 相同但又互相独立的 iterable 并返回\n",
    "\n",
    "a, b = itertools.tee(range(10), 2)\n",
    "\n",
    "PrintList(a)\n",
    "PrintList(b)"
   ]
  },
  {
   "cell_type": "code",
   "execution_count": 36,
   "metadata": {
    "collapsed": false
   },
   "outputs": [
    {
     "name": "stdout",
     "output_type": "stream",
     "text": [
      "[(0, 0), (1, 1), (2, 2), (3, 3), (4, 4), (5, None), (6, None), (7, None), (8, None), (9, None)]\n"
     ]
    }
   ],
   "source": [
    "# 和原来的 zip 相似，只不过是会在多出的地方填充\n",
    "\n",
    "PrintList(itertools.zip_longest(range(10), range(5), fillvalue=None))"
   ]
  },
  {
   "cell_type": "code",
   "execution_count": 43,
   "metadata": {
    "collapsed": false
   },
   "outputs": [
    {
     "name": "stdout",
     "output_type": "stream",
     "text": [
      "[(0, 0), (0, 1), (1, 0), (1, 1)]\n",
      "[(0, 1), (0, 2), (0, 3), (1, 0), (1, 2), (1, 3), (2, 0), (2, 1), (2, 3), (3, 0), (3, 1), (3, 2)]\n",
      "[(0, 1), (0, 2), (0, 3), (1, 2), (1, 3), (2, 3)]\n",
      "[(0, 0), (0, 1), (0, 2), (0, 3), (1, 1), (1, 2), (1, 3), (2, 2), (2, 3), (3, 3)]\n"
     ]
    }
   ],
   "source": [
    "# 计算\n",
    "\n",
    "# 笛卡尔积\n",
    "PrintList(itertools.product(range(2), range(2)))\n",
    "\n",
    "# 排列\n",
    "PrintList(itertools.permutations(range(4), 2))\n",
    "\n",
    "# 组合\n",
    "PrintList(itertools.combinations(range(4), 2))\n",
    "          \n",
    "# 组合，包含可重复的\n",
    "PrintList(itertools.combinations_with_replacement(range(4), 2))"
   ]
  }
 ],
 "metadata": {
  "kernelspec": {
   "display_name": "Python 3",
   "language": "python",
   "name": "python3"
  },
  "language_info": {
   "codemirror_mode": {
    "name": "ipython",
    "version": 3
   },
   "file_extension": ".py",
   "mimetype": "text/x-python",
   "name": "python",
   "nbconvert_exporter": "python",
   "pygments_lexer": "ipython3",
   "version": "3.5.2"
  }
 },
 "nbformat": 4,
 "nbformat_minor": 2
}
