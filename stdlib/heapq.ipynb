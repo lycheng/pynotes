{
 "cells": [
  {
   "cell_type": "markdown",
   "metadata": {},
   "source": [
    "# heapq"
   ]
  },
  {
   "cell_type": "code",
   "execution_count": 4,
   "metadata": {
    "collapsed": false
   },
   "outputs": [
    {
     "name": "stdout",
     "output_type": "stream",
     "text": [
      "[-1, 1, 3, 3, 8, 123]\n",
      "1\n",
      "[-1, 5, 2, 256, 123, 8, 3]\n"
     ]
    }
   ],
   "source": [
    "# 基本用法\n",
    "\n",
    "import heapq\n",
    "\n",
    "def heapsort(iterable):\n",
    "    '''最小堆排序\n",
    "    '''\n",
    "    h = []\n",
    "    for value in iterable:\n",
    "        heapq.heappush(h, value)\n",
    "    return [heapq.heappop(h) for i in range(len(h))]\n",
    "\n",
    "src = [1, 3, 8, 5, 123, -1, 2, 256]\n",
    "print(heapsort([1, 3, 8, 3, 123, -1]))\n",
    "\n",
    "# 需要注意的是，如果直接调用 heapq 的相关逻辑，则它会把你传进去的 iterable 当做是已经排好序的\n",
    "print(heapq.heappop(src))\n",
    "\n",
    "heapq.heapify(src)\n",
    "print(src)"
   ]
  },
  {
   "cell_type": "code",
   "execution_count": 5,
   "metadata": {
    "collapsed": false
   },
   "outputs": [
    {
     "name": "stdout",
     "output_type": "stream",
     "text": [
      "-2\n",
      "-1\n"
     ]
    }
   ],
   "source": [
    "# heappushpop 和 heapreplace 的区别\n",
    "# 前者是 push 之后再 pop 出最小的元素，能保证 pop 出来的元素一定是最小的\n",
    "# 后者是先置换，再重排，能保证不会在扩大原数组，但不能保证弹出的一定比新加的小\n",
    "\n",
    "src = [1, 3, 8, 5, 123, -1, 2, 256]\n",
    "heapq.heapify(src)\n",
    "print(heapq.heappushpop(src, -2))\n",
    "\n",
    "src = [1, 3, 8, 5, 123, -1, 2, 256]\n",
    "heapq.heapify(src)\n",
    "print(heapq.heapreplace(src, -2))"
   ]
  },
  {
   "cell_type": "code",
   "execution_count": 8,
   "metadata": {
    "collapsed": false
   },
   "outputs": [
    {
     "name": "stdout",
     "output_type": "stream",
     "text": [
      "-8\n",
      "-3\n",
      "-1\n",
      "-1\n",
      "3\n",
      "1\n",
      "5\n",
      "100\n",
      "123\n",
      "8\n",
      "2\n",
      "123\n",
      "2\n",
      "2\n",
      "256\n",
      "512\n",
      "\n",
      "-8\n",
      "-3\n",
      "-1\n",
      "2\n"
     ]
    }
   ],
   "source": [
    "# heapq.merge(*iterables, key=None, reverse=False)\n",
    "# 同样，每个 iterables 都需要排好序\n",
    "\n",
    "src0 = [1, 3, 8, 5, 123, -1, 2, 256]\n",
    "src1 = [2, -3, -8, 100, 123, -1, 2, 512]\n",
    "\n",
    "heapq.heapify(src0)\n",
    "heapq.heapify(src1)\n",
    "\n",
    "for i in heapq.merge(src0, src1):\n",
    "    print(i)\n",
    "    \n",
    "print()\n",
    "# heapq.nlargest(n, iterable, key=None)\n",
    "# heapq.nsmallest(n, iterable, key=None)\n",
    "# 这两个方法倒是可以直接用，不用管是否已经有顺序，但如果列表比较庞大，推荐使用 sorted，如果 n=1 则可使用\n",
    "for i in heapq.nsmallest(4, src1):\n",
    "    print(i)"
   ]
  },
  {
   "cell_type": "code",
   "execution_count": null,
   "metadata": {
    "collapsed": true
   },
   "outputs": [],
   "source": []
  }
 ],
 "metadata": {
  "kernelspec": {
   "display_name": "Python 3",
   "language": "python",
   "name": "python3"
  },
  "language_info": {
   "codemirror_mode": {
    "name": "ipython",
    "version": 3
   },
   "file_extension": ".py",
   "mimetype": "text/x-python",
   "name": "python",
   "nbconvert_exporter": "python",
   "pygments_lexer": "ipython3",
   "version": "3.5.2+"
  }
 },
 "nbformat": 4,
 "nbformat_minor": 2
}
