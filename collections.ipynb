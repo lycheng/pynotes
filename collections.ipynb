{
 "cells": [
  {
   "cell_type": "markdown",
   "metadata": {},
   "source": [
    "# collections 相关用例"
   ]
  },
  {
   "cell_type": "markdown",
   "metadata": {},
   "source": [
    "## defaultdict"
   ]
  },
  {
   "cell_type": "code",
   "execution_count": 1,
   "metadata": {
    "collapsed": false
   },
   "outputs": [
    {
     "name": "stdout",
     "output_type": "stream",
     "text": [
      "defaultdict(<class 'int'>, {0: 4, 1: 3, 2: 3})\n"
     ]
    }
   ],
   "source": [
    "# defaultdict\n",
    "\n",
    "import collections\n",
    "\n",
    "d = collections.defaultdict(int)\n",
    "for i in range(10):\n",
    "    d[i % 3] += 1\n",
    "print(d)"
   ]
  },
  {
   "cell_type": "code",
   "execution_count": 3,
   "metadata": {
    "collapsed": false
   },
   "outputs": [
    {
     "name": "stdout",
     "output_type": "stream",
     "text": [
      "defaultdict(<class 'int'>, {0: 4, 1: 4, 2: 5})\n",
      "defaultdict(<function constant_factory.<locals>.<lambda> at 0x7fd83464cc80>, {0: 4, 1: 3, 2: 3})\n"
     ]
    }
   ],
   "source": [
    "# 实际上，上述的代码类似于\n",
    "class D(collections.defaultdict):\n",
    "    def __missing__(self, key):\n",
    "        return self.default_factory(key)\n",
    "d = D(int)\n",
    "for i in range(10):\n",
    "    d[i % 3] += 1\n",
    "print(d)\n",
    "\n",
    "# 更简单的 lambda\n",
    "def constant_factory(value):\n",
    "    return lambda: value\n",
    "d = collections.defaultdict(constant_factory(0))\n",
    "\n",
    "for i in range(10):\n",
    "    d[i % 3] += 1\n",
    "print(d)\n",
    "\n",
    "# 最后，需要注意的是，defaultdict 生效只在 `obj[key]` 这种调用的模式下，如果使用 `obj.get` 则不会触发。"
   ]
  },
  {
   "cell_type": "markdown",
   "metadata": {},
   "source": [
    "## OrderedDict"
   ]
  },
  {
   "cell_type": "code",
   "execution_count": 8,
   "metadata": {
    "collapsed": false
   },
   "outputs": [
    {
     "name": "stdout",
     "output_type": "stream",
     "text": [
      "OrderedDict([('b', None), ('a', None), ('c', None), ('d', None), ('e', None)])\n",
      "OrderedDict([('b', None), ('a', None), ('c', None), ('e', None), ('d', None)])\n"
     ]
    }
   ],
   "source": [
    "od = collections.OrderedDict\n",
    "d = od.fromkeys(\"abcde\")\n",
    "\n",
    "d.move_to_end(\"b\", False) # 移动到队头\n",
    "print(d)\n",
    "\n",
    "d.move_to_end(\"d\", True) # 默认情况下是 True, 即移动到队尾\n",
    "print(d)"
   ]
  },
  {
   "cell_type": "code",
   "execution_count": 14,
   "metadata": {
    "collapsed": false
   },
   "outputs": [
    {
     "name": "stdout",
     "output_type": "stream",
     "text": [
      "LastUpdatedOrderedDict([('a', None), ('b', None), ('c', None), ('d', None), ('e', None)])\n",
      "LastUpdatedOrderedDict([('a', None), ('c', None), ('d', None), ('e', None), ('b', 'B')])\n",
      "OrderedDict([('apple', 4), ('banana', 3), ('orange', 2), ('pear', 1)])\n",
      "OrderedDict([('pear', 1), ('orange', 2), ('banana', 3), ('apple', 4)])\n"
     ]
    }
   ],
   "source": [
    "class LastUpdatedOrderedDict(collections.OrderedDict):\n",
    "    ''' 每一个 key 新增或者修改操作都将其置于最后，可用于实现类似 LRU 的算法\n",
    "    '''\n",
    "    def __setitem__(self, key, value):\n",
    "        if key in self:\n",
    "            del self[key]\n",
    "        super().__setitem__(key, value)\n",
    "\n",
    "d = LastUpdatedOrderedDict.fromkeys(\"abcde\")\n",
    "print(d)\n",
    "d['b'] = \"B\"\n",
    "print(d)\n",
    "\n",
    "# 在初始化时指定 key 的排序依据\n",
    "d = {'banana': 3, 'apple': 4, 'pear': 1, 'orange': 2}\n",
    "print(collections.OrderedDict(sorted(d.items(), key=lambda t: t[0]))) # sort by key\n",
    "print(collections.OrderedDict(sorted(d.items(), key=lambda t: t[1]))) # sort by value"
   ]
  },
  {
   "cell_type": "markdown",
   "metadata": {},
   "source": [
    "## Counter"
   ]
  },
  {
   "cell_type": "code",
   "execution_count": 22,
   "metadata": {
    "collapsed": false
   },
   "outputs": [
    {
     "name": "stdout",
     "output_type": "stream",
     "text": [
      "2\n",
      "[('o', 1), ('h', 1), ('e', 1), ('l', 2)]\n",
      "Counter({'l': 3, 'o': 2, 'e': 1, 'd': 1, 'h': 1, 'r': 1, 'w': 1})\n",
      "Counter({'l': 2, 'e': 1, 'd': 1, 'h': 1, 'r': 1, 'o': 1, 'w': 1})\n",
      "Counter({'l': 1, 'o': 1})\n",
      "Counter({'l': 2, 'e': 1, 'h': 1, 'o': 1})\n",
      "Counter()\n"
     ]
    }
   ],
   "source": [
    "# 初始化\n",
    "c = collections.Counter()\n",
    "c = collections.Counter({'red': 4, 'blue': 2})\n",
    "c = collections.Counter(cats=4, dogs=8)\n",
    "c = collections.Counter('hello')\n",
    "print(c['l']) # 2\n",
    "\n",
    "sum(c.values())                 # total of all counts\n",
    "# c.clear()                       # reset all counts\n",
    "list(c)                         # list unique elements\n",
    "set(c)                          # convert to a set\n",
    "dict(c)                         # convert to a regular dictionary\n",
    "c.items()                       # convert to a list of (elem, cnt) pairs\n",
    "collections.Counter(dict([(\"a\", 1), (\"b\", 2)]))    # convert from a list of (elem, cnt) pairs\n",
    "\n",
    "n = len(c)\n",
    "print(c.most_common()[:-n-1:-1])       # n least common elements\n",
    "\n",
    "b = collections.Counter('world')\n",
    "print(b + c)                           # 对应的 count 相加（相减）\n",
    "print(b | c)                           # 并集，相同取最大的 count\n",
    "print(b & c)                           # 交集，相同取最小的 count\n",
    "print(+c)                              # 相当于一个空的 counter 相加（或相减），但只保留正 count 的 key\n",
    "print(-c)                              # 同上"
   ]
  },
  {
   "cell_type": "markdown",
   "metadata": {},
   "source": [
    "## deque"
   ]
  },
  {
   "cell_type": "code",
   "execution_count": 25,
   "metadata": {
    "collapsed": false
   },
   "outputs": [
    {
     "name": "stdout",
     "output_type": "stream",
     "text": [
      "deque([0, 1, 2], maxlen=3)\n",
      "deque([1, 2, 4], maxlen=3)\n",
      "deque already at its maximum size\n",
      "deque([1, 2], maxlen=3)\n",
      "deque([-1, 1, 2], maxlen=3)\n"
     ]
    }
   ],
   "source": [
    "d = collections.deque(maxlen=3)\n",
    "d.extend(range(3))\n",
    "print(d)\n",
    "d.append(4)\n",
    "print(d)\n",
    "\n",
    "try:\n",
    "    d.insert(0, -1) # IndexError: deque already at its maximum size\n",
    "except Exception as err:\n",
    "    print(err)\n",
    "\n",
    "d.pop()\n",
    "print(d)\n",
    "d.insert(0, -1) # deque([-1, 1, 2], maxlen=3)\n",
    "print(d)"
   ]
  },
  {
   "cell_type": "code",
   "execution_count": 26,
   "metadata": {
    "collapsed": true
   },
   "outputs": [],
   "source": [
    "def tail(filename, n=10):\n",
    "    ''' Return the last n lines of a file\n",
    "    '''\n",
    "    with open(filename) as f:\n",
    "        return deque(f, n)\n",
    "\n",
    "def delete_nth(d, n):\n",
    "    ''' 删除第 n 个元素\n",
    "    '''\n",
    "    d.rotate(-n)\n",
    "    d.popleft()\n",
    "    d.rotate(n)"
   ]
  },
  {
   "cell_type": "markdown",
   "metadata": {},
   "source": [
    "## nametuple"
   ]
  },
  {
   "cell_type": "code",
   "execution_count": 34,
   "metadata": {
    "collapsed": false
   },
   "outputs": [
    {
     "name": "stdout",
     "output_type": "stream",
     "text": [
      "Point(x=1, y=2)\n",
      "True\n",
      "True\n",
      "True\n",
      "can't set attribute\n",
      "Point(x=2, y=2)\n"
     ]
    }
   ],
   "source": [
    "Point = collections.namedtuple('Point', ['x', 'y'])\n",
    "# Point = collections.namedtuple('Point', 'x y') # 也是可以的\n",
    "\n",
    "p = Point._make((1, 2))\n",
    "print(p)\n",
    "print(p.x == p[0])\n",
    "print(isinstance(p, tuple))\n",
    "print(isinstance(p, Point))\n",
    "\n",
    "try:\n",
    "    p.x = 2\n",
    "except Exception as err:\n",
    "    print(err)\n",
    "    \n",
    "p = p._replace(x=2)\n",
    "print(p)\n",
    "\n",
    "class Point(collections.namedtuple('Point', 'x y')):\n",
    "    \"\"\" 这样则可以定义相应的方法\n",
    "    \n",
    "    下方 __slots__ = () 的设置则是为了不让对象生成 __dict__\n",
    "    \"\"\"\n",
    "    __slots__ = ()"
   ]
  },
  {
   "cell_type": "markdown",
   "metadata": {},
   "source": [
    "## ChainMap"
   ]
  },
  {
   "cell_type": "code",
   "execution_count": 38,
   "metadata": {
    "collapsed": false
   },
   "outputs": [
    {
     "name": "stdout",
     "output_type": "stream",
     "text": [
      "2\n",
      "1\n",
      "ChainMap({}, {1: 1, 6: 7}, {1: 2, 3: 4, 5: 6})\n",
      "ChainMap({1: 2, 3: 4, 5: 6})\n",
      "ChainMap({1: 1, 6: 7}, {1: 2, 3: 4, 5: 6})\n",
      "ChainMap({1: 2, 3: 4, 5: 6}, {1: 1, 6: 7})\n"
     ]
    }
   ],
   "source": [
    "d1 = {1: 2, 3: 4, 5: 6}\n",
    "d2 = {1: 1, 6: 7}\n",
    "\n",
    "cm = collections.ChainMap(d1, d2)\n",
    "print(cm.get(1))\n",
    "\n",
    "cm = collections.ChainMap(d2, d1)\n",
    "print(cm.get(1))\n",
    "\n",
    "scm = cm.new_child()\n",
    "print(scm)\n",
    "pcm = cm.parents\n",
    "print(pcm)\n",
    "\n",
    "print(cm)\n",
    "cm.maps[0], cm.maps[1] = cm.maps[1], cm.maps[0]\n",
    "print(cm)"
   ]
  },
  {
   "cell_type": "code",
   "execution_count": 40,
   "metadata": {
    "collapsed": false
   },
   "outputs": [],
   "source": [
    "# python 变量查找顺序的模拟\n",
    "import builtins\n",
    "pylookup = collections.ChainMap(locals(), globals(), vars(builtins))\n",
    "\n",
    "\n",
    "class DeepChainMap(collections.ChainMap):\n",
    "    ''' 实现层级更新和删除\n",
    "    '''\n",
    "    def __setitem__(self, key, value):\n",
    "        for mapping in self.maps:\n",
    "            if key in mapping:\n",
    "                mapping[key] = value\n",
    "                return\n",
    "        self.maps[0][key] = value\n",
    "\n",
    "    def __delitem__(self, key):\n",
    "        for mapping in self.maps:\n",
    "            if key in mapping:\n",
    "                del mapping[key]\n",
    "                return\n",
    "        raise KeyError(key)"
   ]
  },
  {
   "cell_type": "code",
   "execution_count": null,
   "metadata": {
    "collapsed": true
   },
   "outputs": [],
   "source": []
  }
 ],
 "metadata": {
  "kernelspec": {
   "display_name": "Python 3",
   "language": "python",
   "name": "python3"
  },
  "language_info": {
   "codemirror_mode": {
    "name": "ipython",
    "version": 3
   },
   "file_extension": ".py",
   "mimetype": "text/x-python",
   "name": "python",
   "nbconvert_exporter": "python",
   "pygments_lexer": "ipython3",
   "version": "3.5.2+"
  }
 },
 "nbformat": 4,
 "nbformat_minor": 2
}
