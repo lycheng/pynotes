{
 "cells": [
  {
   "cell_type": "markdown",
   "metadata": {},
   "source": [
    "# Python 设计模式"
   ]
  },
  {
   "cell_type": "markdown",
   "metadata": {
    "collapsed": true
   },
   "source": [
    "## 使用 queue 实现对象池\n",
    "\n",
    "http://stackoverflow.com/questions/1514120/python-implementation-of-the-object-pool-design-pattern"
   ]
  },
  {
   "cell_type": "code",
   "execution_count": 2,
   "metadata": {},
   "outputs": [
    {
     "name": "stdout",
     "output_type": "stream",
     "text": [
      "Inside with: yam\n",
      "Outside with: yam\n",
      "Inside func: sam\n",
      "Outside func: sam\n"
     ]
    }
   ],
   "source": [
    "import queue\n",
    "\n",
    "\n",
    "class ObjectPool:\n",
    "    def __init__(self, queue, auto_get=False):\n",
    "        self._queue = queue\n",
    "        self.item = self._queue.get() if auto_get else None\n",
    "\n",
    "    def __enter__(self):\n",
    "        if self.item is None:\n",
    "            self.item = self._queue.get()\n",
    "        return self.item\n",
    "\n",
    "    def __exit__(self, Type, value, traceback):\n",
    "        if self.item is not None:\n",
    "            self._queue.put(self.item)\n",
    "            self.item = None\n",
    "\n",
    "    def __del__(self):\n",
    "        if self.item is not None:\n",
    "            self._queue.put(self.item)\n",
    "            self.item = None\n",
    "            \n",
    "\n",
    "def test_object(queue):\n",
    "    pool = ObjectPool(queue, True)\n",
    "    print('Inside func: {}'.format(pool.item))\n",
    "\n",
    "sample_queue = queue.Queue()\n",
    "\n",
    "sample_queue.put('yam')\n",
    "with ObjectPool(sample_queue) as obj:\n",
    "    print('Inside with: {}'.format(obj))\n",
    "print('Outside with: {}'.format(sample_queue.get()))\n",
    "\n",
    "sample_queue.put('sam')\n",
    "test_object(sample_queue)\n",
    "print('Outside func: {}'.format(sample_queue.get()))\n",
    "\n",
    "if not sample_queue.empty():\n",
    "    print(sample_queue.get())"
   ]
  }
 ],
 "metadata": {
  "kernelspec": {
   "display_name": "Python 3",
   "language": "python",
   "name": "python3"
  },
  "language_info": {
   "codemirror_mode": {
    "name": "ipython",
    "version": 3
   },
   "file_extension": ".py",
   "mimetype": "text/x-python",
   "name": "python",
   "nbconvert_exporter": "python",
   "pygments_lexer": "ipython3",
   "version": "3.5.2+"
  }
 },
 "nbformat": 4,
 "nbformat_minor": 2
}
