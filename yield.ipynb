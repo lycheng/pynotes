{
 "cells": [
  {
   "cell_type": "markdown",
   "metadata": {},
   "source": [
    "# yield"
   ]
  },
  {
   "cell_type": "code",
   "execution_count": 3,
   "metadata": {},
   "outputs": [
    {
     "name": "stdout",
     "output_type": "stream",
     "text": [
      "GEN_CREATED\n",
      "started\n",
      "0\n",
      "GEN_SUSPENDED\n"
     ]
    }
   ],
   "source": [
    "import inspect\n",
    "\n",
    "def looper():\n",
    "    print(\"started\")\n",
    "    for i in range(3):\n",
    "        yield i\n",
    "\n",
    "loop = looper()\n",
    "print(inspect.getgeneratorstate(loop))\n",
    "print(next(loop))\n",
    "print(inspect.getgeneratorstate(loop))"
   ]
  },
  {
   "cell_type": "code",
   "execution_count": 9,
   "metadata": {},
   "outputs": [
    {
     "name": "stdout",
     "output_type": "stream",
     "text": [
      "GEN_CREATED\n",
      "0\n",
      "GEN_SUSPENDED\n"
     ]
    }
   ],
   "source": [
    "# 通过生成器表达式\n",
    "loop = (x*x for x in range(3))\n",
    "print(inspect.getgeneratorstate(loop))\n",
    "print(next(loop))\n",
    "print(inspect.getgeneratorstate(loop))"
   ]
  },
  {
   "cell_type": "code",
   "execution_count": 4,
   "metadata": {},
   "outputs": [
    {
     "name": "stdout",
     "output_type": "stream",
     "text": [
      "1\n",
      "3\n",
      "6\n",
      "10\n",
      "15\n",
      "21\n",
      "28\n",
      "36\n",
      "45\n",
      "GEN_CLOSED\n"
     ]
    }
   ],
   "source": [
    "def adder():\n",
    "    ret = 0\n",
    "    while True:\n",
    "        i = yield ret\n",
    "        ret += i\n",
    "\n",
    "looper = adder()\n",
    "next(looper)\n",
    "\n",
    "for n in range(1, 10):\n",
    "    i = looper.send(n)\n",
    "    print(i)\n",
    "\n",
    "looper.close()\n",
    "print(inspect.getgeneratorstate(looper))"
   ]
  },
  {
   "cell_type": "code",
   "execution_count": 5,
   "metadata": {},
   "outputs": [
    {
     "name": "stdout",
     "output_type": "stream",
     "text": [
      "GEN_CLOSED\n"
     ]
    }
   ],
   "source": [
    "def adder():\n",
    "    ret = 0\n",
    "    while True:\n",
    "        i = yield ret\n",
    "        ret += i\n",
    "\n",
    "\n",
    "looper = adder()\n",
    "next(looper)\n",
    "\n",
    "for n in range(1, 10):\n",
    "    looper.send(n)\n",
    "\n",
    "looper.close()\n",
    "print(inspect.getgeneratorstate(looper))  # GEN_CLOSED\n",
    "\n",
    "# next(looper) \n",
    "# raise StopIteration"
   ]
  },
  {
   "cell_type": "code",
   "execution_count": 6,
   "metadata": {},
   "outputs": [
    {
     "name": "stdout",
     "output_type": "stream",
     "text": [
      "from generator: 1\n",
      "TypeError: from caller 1\n",
      "2\n",
      "aha\n",
      "3\n",
      "aha\n",
      "4\n",
      "aha\n",
      "5\n",
      "END\n"
     ]
    }
   ],
   "source": [
    "def echo():\n",
    "    i = 0\n",
    "    while True:\n",
    "        i += 1\n",
    "        try:\n",
    "            yield i\n",
    "            print('aha')\n",
    "        except TypeError as ex:\n",
    "            print(ex, i)\n",
    "        except GeneratorExit:\n",
    "            print(\"gen exit\", i)\n",
    "            return\n",
    "\n",
    "\n",
    "g = echo()\n",
    "print(\"from generator:\", next(g))\n",
    "print(g.throw(TypeError, \"TypeError: from caller\"))\n",
    "\n",
    "print(next(g))\n",
    "print(next(g))\n",
    "print(next(g))\n",
    "\n",
    "print(\"END\")"
   ]
  },
  {
   "cell_type": "code",
   "execution_count": 7,
   "metadata": {},
   "outputs": [
    {
     "name": "stdout",
     "output_type": "stream",
     "text": [
      "GEN_SUSPENDED\n",
      "GEN_SUSPENDED\n",
      "{1: 6, 2: 9}\n"
     ]
    }
   ],
   "source": [
    "def adder():\n",
    "    ''' 子生成器\n",
    "    '''\n",
    "    ret = 0\n",
    "    while True:\n",
    "        n = yield\n",
    "        if n is None:\n",
    "            break\n",
    "        ret += n\n",
    "    return ret\n",
    "\n",
    "\n",
    "def worker(result, key):\n",
    "    ''' 委派生成器\n",
    "    '''\n",
    "    while True:\n",
    "        rv = yield from adder()\n",
    "        result[key] = rv\n",
    "\n",
    "\n",
    "def main():\n",
    "    ''' 调用方\n",
    "    '''\n",
    "    result = {}\n",
    "    for i in range(1, 3):\n",
    "        w = worker(result, i)\n",
    "        next(w)\n",
    "        for j in range(i, i+3):\n",
    "            w.send(j)\n",
    "        w.send(None)\n",
    "        print(inspect.getgeneratorstate(w))\n",
    "    print(result)\n",
    "\n",
    "\n",
    "main()\n"
   ]
  },
  {
   "cell_type": "code",
   "execution_count": null,
   "metadata": {
    "collapsed": true
   },
   "outputs": [],
   "source": []
  }
 ],
 "metadata": {
  "kernelspec": {
   "display_name": "Python 3",
   "language": "python",
   "name": "python3"
  },
  "language_info": {
   "codemirror_mode": {
    "name": "ipython",
    "version": 3
   },
   "file_extension": ".py",
   "mimetype": "text/x-python",
   "name": "python",
   "nbconvert_exporter": "python",
   "pygments_lexer": "ipython3",
   "version": "3.5.3"
  }
 },
 "nbformat": 4,
 "nbformat_minor": 2
}
