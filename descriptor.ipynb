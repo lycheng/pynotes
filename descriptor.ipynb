{
 "cells": [
  {
   "cell_type": "code",
   "execution_count": 1,
   "metadata": {},
   "outputs": [
    {
     "name": "stdout",
     "output_type": "stream",
     "text": [
      "1\n",
      "2\n",
      "100\n",
      "readonly field\n"
     ]
    }
   ],
   "source": [
    "# readonly field\n",
    "\n",
    "class Field:\n",
    "    def __init__(self, name, type_, default=None):\n",
    "        self.name = name\n",
    "        self.type_ = type_\n",
    "        self.value = default\n",
    "        \n",
    "    def __get__(self, obj, objtype):\n",
    "        '''对于 Table 而言，这里的 obj 为相应的 Table 实例'''\n",
    "        return self.value\n",
    "\n",
    "    def __set__(self, obj, value):\n",
    "        self.value = value\n",
    "\n",
    "class ReadOnlyField(Field):\n",
    "    def __set__(self, obj, value):\n",
    "        raise Exception(\"readonly field\")\n",
    "\n",
    "class Table:\n",
    "    d = Field('d', int, 1)\n",
    "    rd = ReadOnlyField('rd', int, 2)\n",
    "    \n",
    "d = Table()\n",
    "print(d.d) # 1\n",
    "print(d.rd) # 2\n",
    "\n",
    "d.d = 100\n",
    "print(d.d) # 100\n",
    "\n",
    "try:\n",
    "    d.rd = 1111 # Exception, readonly\n",
    "except Exception as err:\n",
    "    print(err)"
   ]
  },
  {
   "cell_type": "code",
   "execution_count": 2,
   "metadata": {},
   "outputs": [
    {
     "name": "stdout",
     "output_type": "stream",
     "text": [
      "<class '__main__.A'>\n",
      "val\n"
     ]
    }
   ],
   "source": [
    "# StaticMethod and ClassMethod\n",
    "\n",
    "class StaticMethod(object):\n",
    "    \"Emulate PyStaticMethod_Type() in Objects/funcobject.c\"\n",
    "\n",
    "    def __init__(self, f):\n",
    "        self.f = f\n",
    "\n",
    "    def __get__(self, obj, objtype=None):\n",
    "        return self.f\n",
    "        \n",
    "class ClassMethod(object):\n",
    "    \"Emulate PyClassMethod_Type() in Objects/funcobject.c\"\n",
    "\n",
    "    def __init__(self, f):\n",
    "        self.f = f\n",
    "\n",
    "    def __get__(self, obj, klass=None):\n",
    "        if klass is None:\n",
    "            klass = type(obj)\n",
    "        def newfunc(*args, **kwargs):\n",
    "            return self.f(klass, *args, **kwargs)\n",
    "        return newfunc\n",
    "    \n",
    "    \n",
    "class A:\n",
    "    \n",
    "    def c_def(cls):\n",
    "        print(cls)\n",
    "        \n",
    "    def s_def(i):\n",
    "        print(i)\n",
    "        \n",
    "    c_def = ClassMethod(c_def)\n",
    "    s_def = StaticMethod(s_def)\n",
    "    \n",
    "a = A()\n",
    "\n",
    "a.c_def()\n",
    "a.s_def(\"val\")"
   ]
  },
  {
   "cell_type": "code",
   "execution_count": 5,
   "metadata": {},
   "outputs": [
    {
     "name": "stdout",
     "output_type": "stream",
     "text": [
      "set x\n",
      "get x\n",
      "1\n",
      "del x\n",
      "100000\n",
      "can't set attribute\n"
     ]
    }
   ],
   "source": [
    "# property\n",
    "\n",
    "class C:\n",
    "    def __init__(self):\n",
    "        self._x = None\n",
    "\n",
    "    @property\n",
    "    def x(self):\n",
    "        \"\"\"I'm the 'x' property.\"\"\"\n",
    "        print(\"get x\")\n",
    "        return self._x\n",
    "\n",
    "    @x.setter\n",
    "    def x(self, value):\n",
    "        print(\"set x\")\n",
    "        self._x = value\n",
    "\n",
    "    @x.deleter\n",
    "    def x(self):\n",
    "        print(\"del x\")\n",
    "        del self._x\n",
    "        \n",
    "c = C()\n",
    "c.x = 1\n",
    "\n",
    "print(c.x)\n",
    "\n",
    "del c.x\n",
    "\n",
    "class Foo:\n",
    "    def __init__(self):\n",
    "        self._x = 100000\n",
    "\n",
    "    @property\n",
    "    def bar(self):\n",
    "        \"\"\"readonly\"\"\"\n",
    "        return self._x\n",
    "\n",
    "foo = Foo()\n",
    "print(foo.bar)\n",
    "\n",
    "try:\n",
    "    foo.bar = 111\n",
    "except Exception as err:\n",
    "    print(err)"
   ]
  },
  {
   "cell_type": "code",
   "execution_count": 1,
   "metadata": {},
   "outputs": [
    {
     "name": "stdout",
     "output_type": "stream",
     "text": [
      "do something\n",
      "42\n",
      "42\n"
     ]
    }
   ],
   "source": [
    "# example\n",
    "_missing = object()\n",
    "\n",
    "\n",
    "class cached_property(property):\n",
    "\n",
    "    \"\"\"A decorator that converts a function into a lazy property.  The\n",
    "    function wrapped is called the first time to retrieve the result\n",
    "    and then that calculated result is used the next time you access\n",
    "    the value::\n",
    "        class Foo(object):\n",
    "            @cached_property\n",
    "            def foo(self):\n",
    "                # calculate something important here\n",
    "                return 42\n",
    "    The class has to have a `__dict__` in order for this property to\n",
    "    work.\n",
    "    \"\"\"\n",
    "\n",
    "    # implementation detail: A subclass of python's builtin property\n",
    "    # decorator, we override __get__ to check for a cached value. If one\n",
    "    # choses to invoke __get__ by hand the property will still work as\n",
    "    # expected because the lookup logic is replicated in __get__ for\n",
    "    # manual invocation.\n",
    "\n",
    "    def __init__(self, func, name=None, doc=None):\n",
    "        self.__name__ = name or func.__name__\n",
    "        self.__module__ = func.__module__\n",
    "        self.__doc__ = doc or func.__doc__\n",
    "        self.func = func\n",
    "\n",
    "    def __set__(self, obj, value):\n",
    "        obj.__dict__[self.__name__] = value\n",
    "\n",
    "    def __get__(self, obj, type=None):\n",
    "        if obj is None:\n",
    "            return self\n",
    "        value = obj.__dict__.get(self.__name__, _missing)\n",
    "        if value is _missing:\n",
    "            value = self.func(obj)\n",
    "            obj.__dict__[self.__name__] = value\n",
    "        return value\n",
    "\n",
    "\n",
    "class A:\n",
    "    @cached_property\n",
    "    def func(self):\n",
    "        print('do something')\n",
    "        return 42\n",
    "\n",
    "a = A()\n",
    "print(a.func)\n",
    "print(a.func)"
   ]
  },
  {
   "cell_type": "code",
   "execution_count": null,
   "metadata": {
    "collapsed": true
   },
   "outputs": [],
   "source": []
  }
 ],
 "metadata": {
  "kernelspec": {
   "display_name": "Python 3",
   "language": "python",
   "name": "python3"
  },
  "language_info": {
   "codemirror_mode": {
    "name": "ipython",
    "version": 3
   },
   "file_extension": ".py",
   "mimetype": "text/x-python",
   "name": "python",
   "nbconvert_exporter": "python",
   "pygments_lexer": "ipython3",
   "version": "3.5.3"
  }
 },
 "nbformat": 4,
 "nbformat_minor": 2
}
