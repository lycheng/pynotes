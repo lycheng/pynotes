{
 "cells": [
  {
   "cell_type": "markdown",
   "metadata": {
    "collapsed": true
   },
   "source": [
    "# 一致性哈希"
   ]
  },
  {
   "cell_type": "code",
   "execution_count": 1,
   "metadata": {},
   "outputs": [
    {
     "name": "stdout",
     "output_type": "stream",
     "text": [
      "0.9884\n"
     ]
    }
   ],
   "source": [
    "# 简单的余数\n",
    "\n",
    "from struct import unpack_from\n",
    "from hashlib import md5\n",
    "\n",
    "\n",
    "N = 10000\n",
    "\n",
    "\n",
    "def commom_hash(key, n):\n",
    "    if isinstance(key, bytes):\n",
    "        key = key.decode(\"utf-8\")\n",
    "    h = md5(str(key).encode(\"utf-8\")).digest()\n",
    "    i = unpack_from(\">I\", h)[0]\n",
    "    return i % n\n",
    "\n",
    "\n",
    "def cal_diff(hash_func, n, m):\n",
    "    diffs = 0\n",
    "    for i in range(N):\n",
    "        if hash_func(i, n) == hash_func(i, m):\n",
    "            continue\n",
    "        diffs += 1\n",
    "    return diffs / N\n",
    "\n",
    "\n",
    "print(cal_diff(commom_hash, 100, 101))"
   ]
  },
  {
   "cell_type": "code",
   "execution_count": 4,
   "metadata": {},
   "outputs": [
    {
     "name": "stdout",
     "output_type": "stream",
     "text": [
      "0.0073\n",
      "max=561 min=1 avg=100.0\n"
     ]
    }
   ],
   "source": [
    "# 一致性哈希\n",
    "\n",
    "from struct import unpack_from\n",
    "from hashlib import md5\n",
    "from collections import defaultdict\n",
    "import bisect\n",
    "\n",
    "\n",
    "class ConsistentHash:\n",
    "\n",
    "    def __init__(self, nodes):\n",
    "        self.nodes = nodes\n",
    "        self.ring = []\n",
    "        self.hash2node = {}\n",
    "        self.init_ring()\n",
    "\n",
    "    def init_ring(self):\n",
    "        for n in range(self.nodes):\n",
    "            h = self.cal_hash(n)\n",
    "            self.ring.append(h)\n",
    "            self.hash2node[h] = n\n",
    "        self.ring.sort()\n",
    "\n",
    "    def cal_hash(self, key):\n",
    "        if isinstance(key, bytes):\n",
    "            key = key.decode(\"utf-8\")\n",
    "        h = md5(str(key).encode(\"utf-8\")).digest()\n",
    "        i = unpack_from(\">I\", h)[0]\n",
    "        return i\n",
    "\n",
    "    def hash(self, key):\n",
    "        h = self.cal_hash(key)\n",
    "        i = bisect.bisect_left(self.ring, h) % self.nodes\n",
    "        return self.hash2node[self.ring[i]]\n",
    "\n",
    "ch = ConsistentHash(100)\n",
    "ch101 = ConsistentHash(101)\n",
    "\n",
    "n = 10000\n",
    "diffs = 0\n",
    "for i in range(n):\n",
    "    if ch101.hash(i) != ch.hash(i):\n",
    "        diffs += 1\n",
    "\n",
    "print(diffs / n)\n",
    "\n",
    "stat = defaultdict(int)\n",
    "for i in range(10000):\n",
    "    n = ch.hash(i)\n",
    "    stat[n] += 1\n",
    "\n",
    "max_ = 0\n",
    "min_ = None\n",
    "sum_ = 0\n",
    "for n, count in stat.items():\n",
    "    if count > max_:\n",
    "        max_ = count\n",
    "\n",
    "    if min_ is None or count < min_:\n",
    "        min_ = count\n",
    "    sum_ += count\n",
    "\n",
    "print(\"max={} min={} avg={}\".format(max_, min_, sum_ / len(stat)))"
   ]
  },
  {
   "cell_type": "code",
   "execution_count": null,
   "metadata": {},
   "outputs": [],
   "source": []
  },
  {
   "cell_type": "code",
   "execution_count": null,
   "metadata": {},
   "outputs": [],
   "source": []
  }
 ],
 "metadata": {
  "kernelspec": {
   "display_name": "Python 3",
   "language": "python",
   "name": "python3"
  },
  "language_info": {
   "codemirror_mode": {
    "name": "ipython",
    "version": 3
   },
   "file_extension": ".py",
   "mimetype": "text/x-python",
   "name": "python",
   "nbconvert_exporter": "python",
   "pygments_lexer": "ipython3",
   "version": "3.6.3"
  }
 },
 "nbformat": 4,
 "nbformat_minor": 2
}
