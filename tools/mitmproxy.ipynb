{
 "cells": [
  {
   "cell_type": "markdown",
   "metadata": {},
   "source": [
    "# mitmproxy\n",
    "\n",
    "主要是 mitmdump，简单的抓取 HTTP 请求 / 修改相应信息的可自定义的代理"
   ]
  },
  {
   "cell_type": "code",
   "execution_count": 2,
   "metadata": {},
   "outputs": [],
   "source": [
    "# 详细的接口文档 http://docs.mitmproxy.org/en/latest/scripting/api.html\n",
    "\n",
    "# 相应的事件 http://docs.mitmproxy.org/en/latest/scripting/events.html\n",
    "\n",
    "# 下面的代码只关注 HTTP 的事件，也可以监听 TCP 的事件 http://docs.mitmproxy.org/en/latest/scripting/events.html#tcp-events\n",
    "\n",
    "def start():\n",
    "    ''' 如果实现了 start 方法，则它必须返回一个对象，在对象里面实现监听具体的事件的方法\n",
    "    '''\n",
    "    return Handler()\n",
    "\n",
    "\n",
    "class Handler:\n",
    "    ''' 最简单的形式就是直接实现 py 文件层面的 request 和 response 方法\n",
    "    '''\n",
    "\n",
    "    def request(self, flow):\n",
    "        ''' request event\n",
    "        '''\n",
    "        flow.request.headers['X-Forwarded-For'] = '8.8.8.8'\n",
    "\n",
    "    def response(self, flow):\n",
    "        ''' response event\n",
    "        '''\n",
    "        req = flow.request\n",
    "        resp = flow.response\n",
    "        print(\"request {}, {}, consume {:.4f}s\".format(\n",
    "            req.url, resp.status_code,\n",
    "            resp.timestamp_end - resp.timestamp_start))\n",
    "\n",
    "        print(\"---- response headers ----\")\n",
    "        print(resp.headers)\n",
    "        print(\"---- response body ----\")\n",
    "        print(resp.text)\n",
    "        print(\"---- end ----\")"
   ]
  },
  {
   "cell_type": "markdown",
   "metadata": {},
   "source": [
    "运行该脚本，只需\n",
    "\n",
    "> mitmdump -s addon.py\n",
    "\n",
    "之后就可以在 8080 端口使用 HTTP 代理进行抓包或者相应的操作"
   ]
  }
 ],
 "metadata": {
  "kernelspec": {
   "display_name": "Python 3",
   "language": "python",
   "name": "python3"
  },
  "language_info": {
   "codemirror_mode": {
    "name": "ipython",
    "version": 3
   },
   "file_extension": ".py",
   "mimetype": "text/x-python",
   "name": "python",
   "nbconvert_exporter": "python",
   "pygments_lexer": "ipython3",
   "version": "3.5.2"
  }
 },
 "nbformat": 4,
 "nbformat_minor": 2
}
